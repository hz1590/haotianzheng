{
 "cells": [
  {
   "cell_type": "markdown",
   "id": "ee379d22-bea5-4161-b6d8-0f2ffd41bd99",
   "metadata": {},
   "source": [
    "# Data Science Tools and Ecosystem"
   ]
  },
  {
   "cell_type": "markdown",
   "id": "77aae185-7ad2-4c30-a290-9a5dc2633e83",
   "metadata": {},
   "source": [
    "## In this notebook, Data Science Tools and Ecosystem are summarized."
   ]
  },
  {
   "cell_type": "markdown",
   "id": "a88a4623-da93-4d6d-8f5b-e87dd18b99e3",
   "metadata": {},
   "source": [
    "**Objectives**\n",
    "\n",
    "* R\n",
    "* Python\n",
    "* SAS\n",
    "* SPSS\n",
    "* SQL"
   ]
  },
  {
   "cell_type": "markdown",
   "id": "4ae991e2-d428-4471-98a4-dbfd3d1e6259",
   "metadata": {},
   "source": [
    "Some of the popular languages that Data Scientists use are:\n",
    "1. R\n",
    "2. SQL\n",
    "3. Python\n"
   ]
  },
  {
   "cell_type": "markdown",
   "id": "57ae0a87-5263-49fe-a029-e8d566c025c5",
   "metadata": {},
   "source": [
    "|Data Science Tools|\n",
    "|---|\n",
    "|R Studio|\n",
    "|Jupyter Notebook|\n",
    "|Zeppelin|"
   ]
  },
  {
   "cell_type": "markdown",
   "id": "e1ebc559-1b93-44a8-9d16-dafe88f33547",
   "metadata": {},
   "source": [
    "### Below are a few examples of evaluating arithmetic expressions in Python"
   ]
  },
  {
   "cell_type": "code",
   "execution_count": 3,
   "id": "aca09862-042a-46fc-9af2-63dab82c3963",
   "metadata": {},
   "outputs": [
    {
     "data": {
      "text/plain": [
       "17"
      ]
     },
     "execution_count": 3,
     "metadata": {},
     "output_type": "execute_result"
    }
   ],
   "source": [
    "# This a simple arithmetic expression to mutiply then add integers\n",
    "(3*4)+5"
   ]
  },
  {
   "cell_type": "markdown",
   "id": "46bd4529-6b9f-4b38-b00f-010f40dd6f0d",
   "metadata": {},
   "source": [
    "Some of the commonly used libraries used by Data Scientists include:\n",
    "\n",
    "    1.Numpy\n",
    "    2.PyTorch\n",
    "    3.caret"
   ]
  },
  {
   "cell_type": "code",
   "execution_count": 6,
   "id": "6bff256c-9022-4e8f-9d6f-99cf32d95b70",
   "metadata": {},
   "outputs": [
    {
     "data": {
      "text/plain": [
       "3.3333333333333335"
      ]
     },
     "execution_count": 6,
     "metadata": {},
     "output_type": "execute_result"
    }
   ],
   "source": [
    "# This will convert 200 minutes to hours by diving by 60\n",
    "\n",
    "200/60"
   ]
  },
  {
   "cell_type": "markdown",
   "id": "4248790b-61ae-497b-aac2-c59abb0b7cec",
   "metadata": {},
   "source": [
    "\n",
    "## Author\n",
    "Haotian Zheng"
   ]
  },
  {
   "cell_type": "code",
   "execution_count": null,
   "id": "7e685382-9f9f-4708-957f-d08a7b726b0f",
   "metadata": {},
   "outputs": [],
   "source": []
  }
 ],
 "metadata": {
  "kernelspec": {
   "display_name": "Python 3 (ipykernel)",
   "language": "python",
   "name": "python3"
  },
  "language_info": {
   "codemirror_mode": {
    "name": "ipython",
    "version": 3
   },
   "file_extension": ".py",
   "mimetype": "text/x-python",
   "name": "python",
   "nbconvert_exporter": "python",
   "pygments_lexer": "ipython3",
   "version": "3.9.12"
  }
 },
 "nbformat": 4,
 "nbformat_minor": 5
}
